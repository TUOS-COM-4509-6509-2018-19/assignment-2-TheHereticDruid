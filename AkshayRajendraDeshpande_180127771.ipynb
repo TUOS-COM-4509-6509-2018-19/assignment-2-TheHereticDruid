{
 "cells": [
  {
   "cell_type": "markdown",
   "metadata": {},
   "source": [
    "# Objective Functions: A Simple Example with Matrix Factorisation.\n",
    "\n",
    "### 6th October 2015 Neil D. Lawrence\n",
    "\n",
    "### Modified by Mauricio A Álvarez, 1st October 2018\n",
    "\n",
    "In last week's class we saw how we could load in a data set to pandas and use it for some simple data processing. We computed various probabilities on the data and I encouraged you to think about what sort of probabilities you need for prediction. This week we are going to take a slightly different tack. \n",
    "\n",
    "Broadly speaking there are two dominating approaches to machine learning problems. We started to consider the first approach last week: constructing models based on defining the relationship between variables using probabilities. This week we will consider the second approach: which involves defining an *objective function* and optimizing it. \n",
    "\n",
    "What do we mean by an objective function? An objective function could be an *error function*, a *cost function* or a *benefit* function. In evolutionary computing they are called *fitness* functions. But the idea is always the same. We write down a mathematical equation which is then optimized to do the learning. The equation should be a function of the *data* and our model *parameters*. We have a choice when optimizing, either minimize or maximize. To avoid confusion, in the optimization field, we always choose to minimize the function. If we have a function that we would like to maximize, we simply choose to minimize the negative of that function. \n",
    "\n",
    "So for this lab session, we are going to ignore probabilities, but don't worry, they will return! \n",
    "\n",
    "This week we are going to try and build a simple movie recommender system using an objective function. To do this, the first thing I'd like you to do is to install some software we've written for sharing information across google documents.\n",
    "\n",
    "## Open Data Science Software\n",
    "\n",
    "In Sheffield we have written a suite of software tools for 'Open Data Science'. Open data science is an approach to sharing code, models and data that should make it easier for companies, health professionals and scientists to gain access to data science techniques. For some background on open data science you can read [this blog post](http://inverseprobability.com/2014/07/01/open-data-science/). The first thing we will do this week is to download that suite of software. \n",
    "\n",
    "The software can be installed using\n",
    "\n",
    "```python\n",
    "pip install pods\n",
    "```\n",
    "\n",
    "from the command prompt where you can access your python installation.\n",
    "\n",
    "\n",
    "## Download the MovieLens 100k Data\n",
    "\n",
    "We are going to download the [MovieLens 100k](http://files.grouplens.org/datasets/movielens/ml-latest-small-README.html) Data. This is a public dataset that contains 100,000 ratings and 3,600 tag applications applied to 9,000 movies by 600 users. When you use a data set that someone has prepared you should always reference the data source to acknowledge the work that's been placed in. This particular dataset was collected by the [Grouplens Research group](https://grouplens.org/),  at the University of Minnesota. For example, if you were to use this dataset for writing a paper, the authors ask you that you acknowledge their work by citing the following paper:\n",
    "\n",
    "F. Maxwell Harper and Joseph A. Konstan. 2015. The MovieLens Datasets: History and Context. ACM Transactions on Interactive Intelligent Systems (TiiS) 5 (4):1-19 [https://doi.org/10.1145/2827872](https://doi.org/10.1145/2827872)"
   ]
  },
  {
   "cell_type": "code",
   "execution_count": 2,
   "metadata": {},
   "outputs": [
    {
     "name": "stdout",
     "output_type": "stream",
     "text": [
      "Downloading  http://files.grouplens.org/datasets/movielens/ml-latest-small.zip -> .\\ml-latest-small.zip\n",
      "[==============================]   0.933/0.933MB                                                                                                                                                                                                                                                                                                                                                                                                                                                                                                                                                                                                                                                                                                                                                                                                                                                                                                                                                                                                                                                                                                                                                                                                                                                                                                                                                                                                                                                                                                                                                                                                                                                                                                                                                                                                                                                                                                                                                                                                                                                                                                                                                                                                                                                                                                                                                                                                                                                                                                                                                                                                                                                                                                                                                                                                                                                                                                                                                                                                                                                                                                                                                                                                                                                                                                                                                                                                                                                                                                                                                                                                                                                                                                                                                                                                                                                                                                                                                                                                                                                                                                                                                                                                                                                                                                                                                                                                                                                                                                                                                                                                                                                                                                                                                                                                                                                                                                                                                                                                                                                                                                                                                                                                                                                                                                                                                                                                                                                                                                                                                                                                                                                                                                                                                                                                                                                                                                                                                                                                \n"
     ]
    }
   ],
   "source": [
    "import pods\n",
    "import zipfile\n",
    "import sys\n",
    "import pandas as pd\n",
    "import numpy as np\n",
    "\n",
    "pods.util.download_url(\"http://files.grouplens.org/datasets/movielens/ml-latest-small.zip\")\n",
    "zip_console = zipfile.ZipFile('ml-latest-small.zip', 'r')\n",
    "for name in zip_console.namelist():\n",
    "           zip_console.extract(name, './')"
   ]
  },
  {
   "cell_type": "markdown",
   "metadata": {},
   "source": [
    "### Assignment Question 1\n",
    "\n",
    "Data ethics. If you find data available on the internet, can you simply use it without consequence? If you are given data by a fellow researcher can you publish that data on line? \n",
    "\n",
    "*5 marks*"
   ]
  },
  {
   "cell_type": "markdown",
   "metadata": {},
   "source": [
    "#### Question 1 Answer\n",
    "\n",
    "By the regulations set up by the University, we are allowed the use of data and information allowed online AS LONG AS we give them due credit. Not doing so amounts to claiming their work as our own, which it is not. If we are given data by someone else, it is our responsibility to track down the primary source and quote them before using such data. It is also prudent to check if the data is available under copyright to use without permission, and if not, to get the requisite permission."
   ]
  },
  {
   "cell_type": "markdown",
   "metadata": {},
   "source": [
    "## Recommender Systems\n",
    "\n",
    "A recommender system aims to make suggestions for items (films, books, other commercial products) given what it knows about users' tastes. The recommendation engine needs to represent the *taste* of all the users and the *characteristics* of each object. \n",
    "\n",
    "A common way for organizing objects is to place related objects spatially close together. For example in a library we try and put books that are on related topics near to each other on the shelves. One system for doing this is known as [Dewey Decimal Classification](http://en.wikipedia.org/wiki/Dewey_Decimal_Classification). In the Dewey Decimal Classification system (which dates from 1876) each subject is given a number (in fact it's a decimal number). For example, the field of Natural Sciences and Mathematics is given numbers which start with 500. Subjects based on Computer Science are given numbers which start 004 and works on the 'mathematical principles' of Computer science are given the series 004.0151 (which we might store as 4.0151 on a Computer). Whilst it's a classification system, the books in the library are typically laid out in the same order as the numbers, so we might expect that neighbouring numbers represent books that are related in subject. That seems to be exactly what we want when also representing films. Could we somehow represent each film's subject according to a number? In a similar way we could then imagine representing users with a list of numbers that represent things that each user is interested in.\n",
    "\n",
    "Actually a one dimensional representation of a subject can be very awkward. To see this, let's have a look at the Dewey Decimal Classification numbers for the 900s, which is listed as 'History and Geography'. We will focus on subjects in the 940s which can be found in this list from [Wikipedia](https://en.wikipedia.org/wiki/List_of_Dewey_Decimal_classes#Class_900_%E2%80%93_History_&_geography). Whilst the ordering for places is somewhat sensible, it is also rather arbitrary. In the 940s we have Europe listed from 940-949, Asia listed from 950-959 and Africa listed from 960-969. Whilst it's true that Asia borders Europe, Africa is also very close, and the history of the Roman Empire spreads into [Carthage](http://en.wikipedia.org/wiki/Carthage) and later on Egypt. This image from Wikipedia shows a map of the Cathaginian Empire which fell after fighting with Rome. \n",
    "\n",
    "\n",
    "<a title=\"By Javierfv1212 [Public domain], from Wikimedia Commons\" href=\"https://commons.wikimedia.org/wiki/File:Carthaginianempire.PNG\"><img width=\"512\" alt=\"Carthaginianempire\" src=\"https://upload.wikimedia.org/wikipedia/commons/thumb/9/9b/Carthaginianempire.PNG/512px-Carthaginianempire.PNG\"></a>\n",
    "\n",
    "We now need to make a decision about whether Roman Histories are European or African, ideally we'd like them to be somewhere between the two, but we can't place them there in the Dewey Decimal system because between Europe and Africa is Asia, which has less to do with the Roman Empire than either Europe or Africa. Of course the fact that we've used a map provides a clue as to what to do next. Libraries are actually laid out on floors, so what if we were to use the spatial lay out to organise the sujbects of the books in two dimensions. Books on Geography could be laid out according to where in the world they are referring to. \n",
    "\n",
    "Such complexities are very hard to encapsulate in one number, but inspired by the map examples we can start considering how we might lay out films in two dimensions. Similarly, we can consider laying out a map of people's interests. If the two maps correspond to one another, the map of people could reflect where they might want to live in 'subject space'. We can think of representing people's tastes as where they might best like to sit in the library to access easily the books they are most interested in.\n",
    "\n",
    "\n",
    "## Inner Products for Representing Similarity\n",
    "\n",
    "Ideas like the above are good for gaining intuitions about what we might want, but the one of the skills of data science is representing those ideas mathematically. Mathematical abstraction of a problem is one of the key ways in which we've been able to progress as a society. Understanding planetary motions, as well as those of the smallest molecule (to quote Laplace's [Philosophical Essay on Probabilities](http://books.google.co.uk/books?id=1YQPAAAAQAAJ&printsec=frontcover&source=gbs_ge_summary_r&cad=0#v=onepage&q&f=false)) needed to be done mathematically. The right mathematical model in machine learning can be slightly more elusive, because constructing it is a two stage process. \n",
    "\n",
    "1. We have to determine the right intuition for the system we want to represent. Notions such as 'subject' and 'interest' are not mathematically well defined, and even when we create a new interpretation of what they might mean, each interpretation may have its own weaknesses. \n",
    "\n",
    "2. Once we have our interpretation we can attempt to mathematically formalize it. In our library interpretation, that's what we need to do next. \n",
    "\n",
    "### The Library on an Infinite Plane\n",
    "\n",
    "Let's imagine a library which stores all the items  we are interested in, not just books, but films and shopping items too. Such a library is likely to be very large, so we'll create it on an infinite two dimensional plane. This means we can use all the real numbers to represent the location of each item on the plane. For a two dimensional plane, we need to store the locations in a vector of numbers: we can decide that the $j$th item's location in the library is given by \n",
    "$$\n",
    "\\mathbf{v}_j = \\begin{bmatrix} v_{j,1} \\\\ v_{j,2}\\end{bmatrix},\n",
    "$$\n",
    "where $v_{j,1}$ represents the $j$th item's location in the East-West direction (or the $x$-axis) and $v_{j,2}$ represents the $j$th item's location in the North-South direction (or the $y$-axis). Now we need to specify the location where each user sits so that all the items that interest them are nearby: we can also represent the $i$th user's location with a vector \n",
    "$$\n",
    "\\mathbf{u}_i = \\begin{bmatrix} u_{i,1} \\\\ u_{i,2}\\end{bmatrix}.\n",
    "$$\n",
    "Finally, we need some way of recording a given user's affinity for a given item. This affinity might be the rating that the user gives the film. We can use $y_{i,j}$ to represent user $i$'s affinity for item $j$. \n",
    "\n",
    "For our film example we might imagine wanting to order films in a few ways. We could imagine organising films in the North-South direction as to how romantic they are. We could place the more romantic films further North and the less romantic films further South. For the East-West direction we could imagine ordering them according to how historic they are: we can imagine placing science fiction films to the East and historical drama to the West. In this case, fans of historical romances would be based in the North-West location, whilst fans of Science Fiction Action films might be located in the South-East (if we assume that 'Action' is the opposite of 'Romance', which is not necessarily the case). How do we lay out all these films? Have we got the right axes? In machine learning the answer is to 'let the data speak'. Use the data to try and obtain such a lay out. To do this we first need to obtain the data."
   ]
  },
  {
   "cell_type": "markdown",
   "metadata": {},
   "source": [
    "## Obtaining the Data\n",
    "\n",
    "As mentioned before, the MovieLens dataset that we'll use has 100,000 ratings to 9,000 movies by 600 users. For now, we will only work with a subset of the dataset. In particular, we will randomly chose a particular number of users and extract the movies and ratings that the users gave to those movies. Read the code below and understand what it is doing.\n",
    "\n",
    "**Before you run the code**, notice that `YourStudentID` in the first line is a variable that will specify the seed for the random number generator that will select a particular set of `nUsersInExample` users. Change the number that has been assigned by default to `YourStudentID` to the last three digits of your UCard number. All of you will have a different subset of users."
   ]
  },
  {
   "cell_type": "code",
   "execution_count": 3,
   "metadata": {},
   "outputs": [
    {
     "name": "stdout",
     "output_type": "stream",
     "text": [
      "        274  479  204  147  187  66   59   323  480  292\n",
      "1       4.0  NaN  NaN  NaN  NaN  4.0  NaN  3.5  3.0  4.0\n",
      "2       3.5  NaN  NaN  NaN  NaN  NaN  NaN  4.0  3.0  NaN\n",
      "3       NaN  NaN  NaN  NaN  NaN  NaN  NaN  NaN  2.5  NaN\n",
      "5       NaN  NaN  NaN  4.5  NaN  4.0  NaN  NaN  NaN  NaN\n",
      "6       4.0  NaN  NaN  NaN  NaN  NaN  NaN  NaN  4.0  NaN\n",
      "8       3.0  NaN  NaN  NaN  NaN  NaN  NaN  NaN  NaN  NaN\n",
      "10      4.0  NaN  NaN  NaN  NaN  NaN  3.0  NaN  4.0  3.5\n",
      "12      3.5  NaN  NaN  NaN  NaN  NaN  NaN  NaN  NaN  NaN\n",
      "16      4.5  NaN  NaN  NaN  4.0  NaN  NaN  NaN  4.0  NaN\n",
      "17      NaN  NaN  NaN  NaN  NaN  NaN  NaN  3.5  NaN  NaN\n",
      "18      NaN  NaN  NaN  NaN  NaN  4.0  NaN  NaN  NaN  NaN\n",
      "19      4.0  NaN  NaN  NaN  NaN  3.0  NaN  2.5  1.5  1.5\n",
      "20      3.5  NaN  NaN  NaN  NaN  NaN  NaN  NaN  NaN  NaN\n",
      "21      NaN  NaN  NaN  NaN  NaN  4.0  NaN  NaN  2.5  NaN\n",
      "22      3.5  NaN  NaN  NaN  NaN  NaN  NaN  3.0  NaN  NaN\n",
      "23      3.5  NaN  NaN  NaN  NaN  NaN  NaN  NaN  NaN  NaN\n",
      "24      3.5  3.0  NaN  NaN  NaN  NaN  NaN  NaN  NaN  NaN\n",
      "25      NaN  NaN  NaN  NaN  3.0  NaN  NaN  NaN  NaN  NaN\n",
      "29      4.0  NaN  NaN  NaN  4.0  4.5  NaN  3.5  NaN  NaN\n",
      "31      NaN  3.0  NaN  NaN  NaN  NaN  NaN  NaN  NaN  NaN\n",
      "32      4.0  NaN  NaN  NaN  NaN  5.0  NaN  2.5  4.0  2.0\n",
      "34      4.0  NaN  NaN  NaN  NaN  NaN  NaN  2.5  4.0  3.5\n",
      "36      NaN  NaN  NaN  NaN  NaN  NaN  NaN  3.5  NaN  NaN\n",
      "39      NaN  NaN  NaN  NaN  NaN  NaN  NaN  NaN  2.5  NaN\n",
      "41      NaN  NaN  NaN  NaN  NaN  NaN  5.0  NaN  NaN  NaN\n",
      "44      4.0  NaN  NaN  NaN  NaN  NaN  NaN  NaN  NaN  NaN\n",
      "45      NaN  3.0  NaN  NaN  NaN  NaN  NaN  NaN  NaN  NaN\n",
      "47      4.0  NaN  5.0  NaN  4.0  5.0  NaN  NaN  4.5  NaN\n",
      "48      2.0  NaN  NaN  NaN  NaN  NaN  NaN  3.5  NaN  NaN\n",
      "50      4.0  NaN  NaN  NaN  4.5  4.0  NaN  4.5  3.5  NaN\n",
      "...     ...  ...  ...  ...  ...  ...  ...  ...  ...  ...\n",
      "111364  NaN  NaN  NaN  NaN  NaN  NaN  NaN  2.0  NaN  NaN\n",
      "111443  NaN  NaN  NaN  NaN  NaN  NaN  NaN  2.5  NaN  NaN\n",
      "111659  NaN  NaN  NaN  NaN  NaN  NaN  NaN  4.0  NaN  NaN\n",
      "112183  NaN  NaN  NaN  NaN  NaN  NaN  NaN  4.5  NaN  NaN\n",
      "112290  NaN  NaN  NaN  NaN  NaN  NaN  NaN  3.5  NaN  NaN\n",
      "112556  NaN  NaN  NaN  NaN  NaN  NaN  NaN  3.0  NaN  NaN\n",
      "112623  NaN  NaN  NaN  NaN  NaN  NaN  NaN  1.5  NaN  NaN\n",
      "112852  NaN  NaN  NaN  NaN  NaN  NaN  NaN  4.0  NaN  4.5\n",
      "113345  NaN  NaN  NaN  NaN  NaN  NaN  NaN  NaN  NaN  1.5\n",
      "113378  NaN  NaN  NaN  NaN  NaN  NaN  NaN  NaN  NaN  3.0\n",
      "114180  NaN  NaN  NaN  NaN  NaN  NaN  NaN  NaN  NaN  3.0\n",
      "115149  NaN  NaN  NaN  NaN  NaN  NaN  NaN  NaN  NaN  3.0\n",
      "115231  NaN  NaN  NaN  NaN  NaN  NaN  NaN  NaN  NaN  2.5\n",
      "115569  NaN  NaN  NaN  NaN  NaN  NaN  NaN  4.0  NaN  NaN\n",
      "115617  NaN  NaN  NaN  NaN  NaN  NaN  NaN  3.5  NaN  4.0\n",
      "116797  NaN  NaN  NaN  NaN  NaN  NaN  NaN  4.5  NaN  NaN\n",
      "116823  NaN  NaN  NaN  NaN  NaN  NaN  NaN  NaN  NaN  4.5\n",
      "117176  NaN  NaN  NaN  NaN  NaN  NaN  NaN  4.0  NaN  NaN\n",
      "118900  NaN  NaN  NaN  NaN  NaN  NaN  NaN  NaN  NaN  0.5\n",
      "119145  NaN  NaN  NaN  NaN  NaN  NaN  NaN  NaN  NaN  4.0\n",
      "122882  NaN  NaN  NaN  NaN  NaN  NaN  NaN  NaN  NaN  2.5\n",
      "122900  NaN  NaN  NaN  NaN  NaN  NaN  NaN  NaN  NaN  4.0\n",
      "127323  NaN  NaN  NaN  NaN  NaN  NaN  NaN  NaN  NaN  1.0\n",
      "129937  NaN  NaN  NaN  NaN  NaN  NaN  NaN  NaN  NaN  1.5\n",
      "130490  NaN  NaN  NaN  NaN  NaN  NaN  NaN  NaN  NaN  3.5\n",
      "130576  NaN  NaN  NaN  NaN  NaN  NaN  NaN  NaN  NaN  2.0\n",
      "135133  NaN  NaN  NaN  NaN  NaN  NaN  NaN  NaN  NaN  4.0\n",
      "164909  NaN  NaN  NaN  NaN  NaN  NaN  NaN  NaN  NaN  2.5\n",
      "165549  NaN  NaN  NaN  NaN  NaN  NaN  NaN  NaN  NaN  1.5\n",
      "166528  NaN  NaN  NaN  NaN  NaN  NaN  NaN  NaN  NaN  4.0\n",
      "\n",
      "[2252 rows x 10 columns]\n"
     ]
    }
   ],
   "source": [
    "YourStudentID = 945  # Include here the last three digits of your UCard number\n",
    "nUsersInExample = 10 # The maximum number of Users we're going to analyse at one time\n",
    "\n",
    "ratings = pd.read_csv(\"./ml-latest-small/ratings.csv\") \n",
    "\"\"\"\n",
    "ratings is a DataFrame with four columns: userId, movieId, rating and tags. We\n",
    "first want to identify how many unique users there are. We can use the unique \n",
    "method in pandas\n",
    "\"\"\"\n",
    "indexes_unique_users = ratings['userId'].unique()\n",
    "n_users = indexes_unique_users.shape[0]\n",
    "\"\"\" \n",
    "We randomly select 'nUsers' users with their ratings. We first fix the seed\n",
    "of the random generator to make sure that we always get the same 'nUsers'\n",
    "\"\"\"\n",
    "np.random.seed(YourStudentID)\n",
    "indexes_users = np.random.permutation(n_users)\n",
    "my_batch_users = indexes_users[0:nUsersInExample]\n",
    "\"\"\"\n",
    "We will use now the list of 'my_batch_users' to create a matrix Y. \n",
    "\"\"\"\n",
    "# We need to make a list of the movies that these users have watched\n",
    "list_movies_each_user = [[] for _ in range(nUsersInExample)]\n",
    "list_ratings_each_user = [[] for _ in range(nUsersInExample)]\n",
    "# Movies\n",
    "list_movies = ratings['movieId'][ratings['userId'] == my_batch_users[0]].values\n",
    "list_movies_each_user[0] = list_movies                    \n",
    "# Ratings                      \n",
    "list_ratings = ratings['rating'][ratings['userId'] == my_batch_users[0]].values\n",
    "list_ratings_each_user[0] = list_ratings\n",
    "# Users\n",
    "n_each_user = list_movies.shape[0]\n",
    "list_users = my_batch_users[0]*np.ones((1, n_each_user))\n",
    "\n",
    "for i in range(1, nUsersInExample):\n",
    "    # Movies\n",
    "    local_list_per_user_movies = ratings['movieId'][ratings['userId'] == my_batch_users[i]].values\n",
    "    list_movies_each_user[i] = local_list_per_user_movies\n",
    "    list_movies = np.append(list_movies,local_list_per_user_movies)\n",
    "    # Ratings                                 \n",
    "    local_list_per_user_ratings = ratings['rating'][ratings['userId'] == my_batch_users[i]].values\n",
    "    list_ratings_each_user[i] = local_list_per_user_ratings\n",
    "    list_ratings = np.append(list_ratings, local_list_per_user_ratings)  \n",
    "    # Users                                   \n",
    "    n_each_user = local_list_per_user_movies.shape[0]                                                                               \n",
    "    local_rep_user =  my_batch_users[i]*np.ones((1, n_each_user))    \n",
    "    list_users = np.append(list_users, local_rep_user)\n",
    "\n",
    "# Let us first see how many unique movies have been rated\n",
    "indexes_unique_movies = np.unique(list_movies)\n",
    "n_movies = indexes_unique_movies.shape[0]\n",
    "# As it is expected no all users have rated all movies. We will build a matrix Y \n",
    "# with NaN inputs and fill according to the data for each user \n",
    "temp = np.empty((n_movies,nUsersInExample,))\n",
    "temp[:] = np.nan\n",
    "Y_with_NaNs = pd.DataFrame(temp)\n",
    "for i in range(nUsersInExample):\n",
    "    local_movies = list_movies_each_user[i]\n",
    "    ixs = np.in1d(indexes_unique_movies, local_movies)\n",
    "    Y_with_NaNs.loc[ixs, i] = list_ratings_each_user[i]\n",
    "\n",
    "Y_with_NaNs.index = indexes_unique_movies.tolist()\n",
    "Y_with_NaNs.columns = my_batch_users.tolist()\n",
    "\n",
    "print(Y_with_NaNs)"
   ]
  },
  {
   "cell_type": "markdown",
   "metadata": {},
   "source": [
    "### Assignment Question 2\n",
    "\n",
    "Have a look at the matrix `Y_with_NaNs`. The movies data is now in a data frame which contains one column for each user rating the movie. There are some entries that contain 'NaN'. What does the 'NaN' mean in this context?\n",
    "\n",
    "*5 marks*"
   ]
  },
  {
   "cell_type": "markdown",
   "metadata": {},
   "source": [
    "#### Answer Question 2\n",
    "\n",
    "NaN would imply that the user has not given a number rating to the movie. They have either not watched the movie, or have no opinions on it"
   ]
  },
  {
   "cell_type": "markdown",
   "metadata": {},
   "source": [
    "Now we will convert our data structure into a form that is appropriate for processing. We will convert the `Y_with_NaNs` dataframe into a new dataframe which contains the user, the movie, and the rating using the following code"
   ]
  },
  {
   "cell_type": "code",
   "execution_count": 4,
   "metadata": {},
   "outputs": [
    {
     "name": "stdout",
     "output_type": "stream",
     "text": [
      "      users  movies  ratingsorig   ratings\n",
      "0     274.0       1          4.0  0.585753\n",
      "1     274.0       2          3.5  0.085753\n",
      "2     274.0       6          4.0  0.585753\n",
      "3     274.0       8          3.0 -0.414247\n",
      "4     274.0      10          4.0  0.585753\n",
      "5     274.0      12          3.5  0.085753\n",
      "6     274.0      16          4.5  1.085753\n",
      "7     274.0      19          4.0  0.585753\n",
      "8     274.0      20          3.5  0.085753\n",
      "9     274.0      22          3.5  0.085753\n",
      "10    274.0      23          3.5  0.085753\n",
      "11    274.0      24          3.5  0.085753\n",
      "12    274.0      29          4.0  0.585753\n",
      "13    274.0      32          4.0  0.585753\n",
      "14    274.0      34          4.0  0.585753\n",
      "15    274.0      44          4.0  0.585753\n",
      "16    274.0      47          4.0  0.585753\n",
      "17    274.0      48          2.0 -1.414247\n",
      "18    274.0      50          4.0  0.585753\n",
      "19    274.0      60          3.5  0.085753\n",
      "20    274.0      62          3.0 -0.414247\n",
      "21    274.0      65          3.0 -0.414247\n",
      "22    274.0      69          4.0  0.585753\n",
      "23    274.0      70          4.5  1.085753\n",
      "24    274.0      86          3.5  0.085753\n",
      "25    274.0      87          3.0 -0.414247\n",
      "26    274.0      88          3.5  0.085753\n",
      "27    274.0      93          3.5  0.085753\n",
      "28    274.0      95          2.5 -0.914247\n",
      "29    274.0     101          3.5  0.085753\n",
      "...     ...     ...          ...       ...\n",
      "3690  292.0  103339          3.0 -0.414247\n",
      "3691  292.0  103341          3.5  0.085753\n",
      "3692  292.0  103772          3.5  0.085753\n",
      "3693  292.0  104841          3.5  0.085753\n",
      "3694  292.0  106002          3.5  0.085753\n",
      "3695  292.0  106072          3.5  0.085753\n",
      "3696  292.0  106487          4.5  1.085753\n",
      "3697  292.0  106696          4.0  0.585753\n",
      "3698  292.0  108190          4.0  0.585753\n",
      "3699  292.0  111360          2.0 -1.414247\n",
      "3700  292.0  112852          4.5  1.085753\n",
      "3701  292.0  113345          1.5 -1.914247\n",
      "3702  292.0  113378          3.0 -0.414247\n",
      "3703  292.0  114180          3.0 -0.414247\n",
      "3704  292.0  115149          3.0 -0.414247\n",
      "3705  292.0  115231          2.5 -0.914247\n",
      "3706  292.0  115617          4.0  0.585753\n",
      "3707  292.0  116823          4.5  1.085753\n",
      "3708  292.0  118900          0.5 -2.914247\n",
      "3709  292.0  119145          4.0  0.585753\n",
      "3710  292.0  122882          2.5 -0.914247\n",
      "3711  292.0  122900          4.0  0.585753\n",
      "3712  292.0  127323          1.0 -2.414247\n",
      "3713  292.0  129937          1.5 -1.914247\n",
      "3714  292.0  130490          3.5  0.085753\n",
      "3715  292.0  130576          2.0 -1.414247\n",
      "3716  292.0  135133          4.0  0.585753\n",
      "3717  292.0  164909          2.5 -0.914247\n",
      "3718  292.0  165549          1.5 -1.914247\n",
      "3719  292.0  166528          4.0  0.585753\n",
      "\n",
      "[3720 rows x 4 columns]\n"
     ]
    }
   ],
   "source": [
    "p_list_ratings = np.concatenate(list_ratings_each_user).ravel()\n",
    "p_list_ratings_original = p_list_ratings.tolist()\n",
    "mean_ratings_train = np.mean(p_list_ratings)\n",
    "p_list_ratings =  p_list_ratings - mean_ratings_train # remove the mean\n",
    "p_list_movies = np.concatenate(list_movies_each_user).ravel().tolist()\n",
    "p_list_users = list_users.tolist()\n",
    "Y = pd.DataFrame({'users': p_list_users, 'movies': p_list_movies, 'ratingsorig': p_list_ratings_original,'ratings':p_list_ratings.tolist()})\n",
    "print(Y)"
   ]
  },
  {
   "cell_type": "markdown",
   "metadata": {},
   "source": [
    "### Assignment Question 3\n",
    "\n",
    "The dataframes `Y_with_NaNs` and `Y` contain the same information but organised in a different way. Explain what is the difference. We have also included two columns for ratings in dataframe `Y`, `ratingsorig` and `ratings`. Explain\n",
    "the difference. \n",
    "\n",
    "*10 marks*"
   ]
  },
  {
   "cell_type": "markdown",
   "metadata": {},
   "source": [
    "#### Question 3 Answer\n",
    "\n",
    "Y_with_NaNs organizes according to the list of unique movies that have ratings from at least one of these 10 users, with NaN in places where no rating was to be found. Y is a completely different table, which organizes by users instead, listing out all the movies and all the ratings for each user in turn, duplicating the user value across columns but eliminating the need for NaNs. ratingsorig is the original rating-on-five given by any user to any movie, ratings gives us the float difference between that rating and the mean of ratings across all users in the list and all movies in the list. This is in essense the value deviation of each rating from the one mean of all ratings"
   ]
  },
  {
   "cell_type": "markdown",
   "metadata": {},
   "source": [
    "## Measuring Similarity\n",
    "\n",
    "We now need a measure for determining the similarity between the item and the user: how close the user is sitting to the item in the rooom if you like. We are going to use the inner product between the vector representing the item and the vector representing the user. \n",
    "\n",
    "An inner product (or [dot product](http://en.wikipedia.org/wiki/Dot_product)) between two vectors $\\mathbf{a}$ and $\\mathbf{b}$ is written as $\\mathbf{a}\\cdot\\mathbf{b}$. Or in vector notation we sometimes write it as $\\mathbf{a}^\\top\\mathbf{b}$. An inner product is simply the sume of the products of each element of the vector,\n",
    "$$\n",
    "\\mathbf{a}^\\top\\mathbf{b} = \\sum_{i} a_i b_i\n",
    "$$\n",
    "The inner product can be seen as a measure of similarity. The inner product gives us the cosine of the angle between the two vectors multiplied by their length. The smaller the angle between two vectors the larger the inner product. \n",
    "$$\n",
    "\\mathbf{a}^\\top\\mathbf{b} = |\\mathbf{a}||\\mathbf{b}| \\cos(\\theta)\n",
    "$$\n",
    "where $\\theta$ is the angle between two vectors and $|\\mathbf{a}|$ and $|\\mathbf{b}|$ are the respective lengths of the two vectors.\n",
    "\n",
    "Since we want each user to be sitting near each item, then we want the inner product to be large for any two items which are rated highly by that user. We can do this by trying to force the inner product $\\mathbf{u}_i^\\top\\mathbf{v}_j$ to be similar to the rating given by the user, $y_{i,j}$. To ensure this we will use a least squares objective function for all user ratings."
   ]
  },
  {
   "cell_type": "markdown",
   "metadata": {},
   "source": [
    "## Objective Function\n",
    "\n",
    "The error function (or objective function, or cost function) we will choose is known as 'sum of squares', we will aim to minimize the sum of squared squared error between the inner product of $\\mathbf{u}_i$ and $\\mathbf{v}_i$ and the observed score for the user/item pairing, given by $y_{i, j}$. \n",
    "\n",
    "The total objective function can be written as\n",
    "$$\n",
    "E(\\mathbf{U}, \\mathbf{V}) = \\sum_{i,j} s_{i,j} (y_{i,j} - \\mathbf{u}_i^\\top \\mathbf{v}_j)^2\n",
    "$$\n",
    "where $s_{i,j}$ is an *indicator* variable that is 1 if user $i$ has rated item $j$ and is zero otherwise. Here $\\mathbf{U}$ is the matrix made up of all the vectors $\\mathbf{u}$,\n",
    "$$\n",
    "\\mathbf{U} = \\begin{bmatrix} \\mathbf{u}_1 \\dots \\mathbf{u}_n\\end{bmatrix}^\\top\n",
    "$$\n",
    "where we note that $i$th *row* of $\\mathbf{U}$ contains the vector associated with the $i$th user and $n$ is the total number of users. This form of matrix is known as a *design matrix*. Similarly, we define the matrix\n",
    "$$\n",
    "\\mathbf{V} = \\begin{bmatrix} \\mathbf{v}_1 \\dots \\mathbf{v}_m\\end{bmatrix}^\\top\n",
    "$$\n",
    "where again the $j$th row of $\\mathbf{V}$ contains the vector associated with the $j$th item and $m$ is the total number of items in the data set.\n",
    "\n",
    "## Objective Optimization\n",
    "\n",
    "The idea is to mimimize this objective. A standard, simple, technique for minimizing an objective is *gradient descent* or *steepest descent*. In gradient descent we simply choose to update each parameter in the model by subtracting a multiple of the objective function's gradient with respect to the parameters. So for a parameter $u_{i,j}$ from the matrix $\\mathbf{U}$ we would have an update as follows:\n",
    "$$\n",
    "u_{k,\\ell} \\leftarrow u_{k,\\ell} - \\eta \\frac{\\text{d} E(\\mathbf{U}, \\mathbf{V})}{\\text{d}u_{k,\\ell}} \n",
    "$$\n",
    "where $\\eta$ (which is pronounced *eta* in English) is a Greek letter representing the *learning rate*.  \n",
    "\n",
    "We can compute the gradient of the objective function with respect to $u_{k,\\ell}$ as\n",
    "$$\n",
    "\\frac{\\text{d}E(\\mathbf{U}, \\mathbf{V})}{\\text{d}u_{k,\\ell}} = -2 \\sum_j s_{k,j}v_{j,\\ell}(y_{k, j} - \\mathbf{u}_k^\\top\\mathbf{v}_{j}). \n",
    "$$\n",
    "Similarly each parameter $v_{i,j}$ needs to be updated according to its gradient. \n"
   ]
  },
  {
   "cell_type": "markdown",
   "metadata": {},
   "source": [
    "### Assignment Question 4\n",
    "\n",
    "What is the gradient of the objective function with respect to $v_{k, \\ell}$? Write your answer in the box below, and explain which differentiation techniques you used to get there. You will be expected to justify your answer in class by oral questioning. \n",
    "\n",
    "*15 marks*"
   ]
  },
  {
   "cell_type": "markdown",
   "metadata": {},
   "source": [
    "#### Question 4 Answer\n",
    "$$\n",
    "E(\\mathbf{U}, \\mathbf{V}) = \\sum_{i,j} s_{i,j} (y_{i,j} - \\mathbf{u}_i^\\top \\mathbf{v}_j)^2\n",
    "$$\n",
    "\n",
    "$$\n",
    "\\frac{\\text{d}E(\\mathbf{U}, \\mathbf{V})}{\\text{d}v_{k,\\ell}} = \\frac{\\text{d}\\sum_{i,j} s_{i,j} (y_{i,j} - \\mathbf{u}_i^\\top \\mathbf{v}_j)^2}{\\text{d}v_{k,\\ell}}\n",
    "$$\n",
    "\n",
    "Since here the variable j is replaced by the value k\n",
    "\n",
    "$$\n",
    "\\frac{\\text{d}E(\\mathbf{U}, \\mathbf{V})}{\\text{d}v_{k,\\ell}} = \\sum_{i}s_{i, k}\\frac{\\text{d}\\sum_{i,j}(y_{i,j} - \\mathbf{u}_i^\\top \\mathbf{v}_j)^2}{\\text{d}v_{k,\\ell}}\n",
    "$$\n",
    "\n",
    "Given the following\n",
    "\n",
    "$$\n",
    "\\frac{\\text{d}x^2}{\\text{d}x}=2x\n",
    "$$\n",
    "\n",
    "And by Chain Rule\n",
    "\n",
    "$$\n",
    "\\frac{\\text{d}f(x)^2}{\\text{d}x}=2f(x)\\frac{\\text{d}x}{\\text{d}x}\n",
    "$$\n",
    "\n",
    "We can say that\n",
    "\n",
    "$$\n",
    "\\frac{\\text{d}E(\\mathbf{U}, \\mathbf{V})}{\\text{d}v_{k,\\ell}} = 2\\sum_{i}s_{i, k}(y_{i,j} - \\mathbf{u}_i^\\top \\mathbf{v}_j)\\frac{\\text{d}\\sum_{i,j}(y_{i,j} - \\mathbf{u}_i^\\top \\mathbf{v}_j)}{\\text{d}v_{k,\\ell}}\n",
    "$$\n",
    "\n",
    "To differentiate the rest, we keep in mind the following\n",
    "\n",
    "$$\n",
    "\\frac{\\text{d}y}{\\text{d}x}=0\n",
    "$$\n",
    "\n",
    "But we also expand the second term in the expression\n",
    "\n",
    "$$\n",
    "\\mathbf{u}_i^\\top \\mathbf{v}_j=u_{i,0}v_{j,0}+u_{i,1}v_{j,1}+...+u_{1,n}v_{j,n}\n",
    "$$\n",
    "\n",
    "If we consider k and l as values for j and the internal element subscript of these vectors respectively, then\n",
    "\n",
    "$$\n",
    "\\mathbf{u}_i^\\top \\mathbf{v}_k=u_{i,0}v_{k,0}+u_{i,1}v_{k,1}+...+u_{i,l}v_{k,l}+...+u_{i,n}v_{k,n}\n",
    "$$\n",
    "\n",
    "For most of these individual terms, the differentiation turns to 0, except for the terms where j=k, and the internal subscript is l. Thus\n",
    "\n",
    "$$\n",
    "\\frac{\\text{d}E(\\mathbf{U}, \\mathbf{V})}{\\text{d}v_{k,\\ell}} = 2\\sum_{i}s_{i, k}(y_{i,j} - \\mathbf{u}_i^\\top \\mathbf{v}_j)\\frac{\\text{d}\\sum_{i,j}(- \\mathbf{u}_i^\\top \\mathbf{v}_j)}{\\text{d}v_{k,\\ell}}\n",
    "$$\n",
    "\n",
    "$$\n",
    "\\frac{\\text{d}E(\\mathbf{U}, \\mathbf{V})}{\\text{d}v_{k,\\ell}} = 2\\sum_{i}s_{i, k}(y_{i,j} - \\mathbf{u}_i^\\top \\mathbf{v}_j)\\frac{\\text{d}\\sum_{i,j}(- \\mathbf{u}_{i,l}\\mathbf{v}_{k,l})}{\\text{d}v_{k,\\ell}}\n",
    "$$\n",
    "\n",
    "Given that\n",
    "\n",
    "$$\n",
    "\\frac{\\text{d}(-x)}{\\text{d}x}=-1\n",
    "$$\n",
    "\n",
    "And\n",
    "\n",
    "$$\n",
    "\\frac{\\text{d}yx}{\\text{d}x}=y\n",
    "$$\n",
    "\n",
    "We finally get the following\n",
    "\n",
    "$$\n",
    "\\frac{\\text{d}E(\\mathbf{U}, \\mathbf{V})}{\\text{d}v_{k,\\ell}} = -2 \\sum_i s_{i,k}u_{i,\\ell}(y_{i, k} - \\mathbf{u}_i^\\top\\mathbf{v}_{k}). \n",
    "$$"
   ]
  },
  {
   "cell_type": "code",
   "execution_count": 43,
   "metadata": {},
   "outputs": [],
   "source": [
    "# Question 4 Code Answer"
   ]
  },
  {
   "cell_type": "markdown",
   "metadata": {},
   "source": [
    "## Steepest Descent Algorithm\n",
    "\n",
    "In the steepest descent algorithm we aim to minimize the objective function by subtacting the gradient of the objective function from the parameters. \n",
    "\n",
    "### Initialisation\n",
    "\n",
    "To start with though, we need initial values for the matrix $\\mathbf{U}$ and the matrix $\\mathbf{V}$. Let's create them as `pandas` data frames and initialise them randomly with small values."
   ]
  },
  {
   "cell_type": "code",
   "execution_count": 5,
   "metadata": {},
   "outputs": [],
   "source": [
    "q = 2 # the dimension of our map of the 'library'\n",
    "learn_rate = 0.01\n",
    "U = pd.DataFrame(np.random.normal(size=(nUsersInExample, q))*0.001, index=my_batch_users)\n",
    "V = pd.DataFrame(np.random.normal(size=(n_movies, q))*0.001, index=indexes_unique_movies)"
   ]
  },
  {
   "cell_type": "markdown",
   "metadata": {},
   "source": [
    "Now that we have the initial values set, we can start the optimization. First we define a function for the gradient of the objective and the objective function itself."
   ]
  },
  {
   "cell_type": "code",
   "execution_count": 6,
   "metadata": {},
   "outputs": [],
   "source": [
    "def objective_gradient(Y, U, V):\n",
    "    gU = pd.DataFrame(np.zeros((U.shape)), index=U.index)\n",
    "    gV = pd.DataFrame(np.zeros((V.shape)), index=V.index)\n",
    "    obj = 0.\n",
    "    nrows = Y.shape[0]\n",
    "    for i in range(nrows):\n",
    "        row = Y.iloc[i]\n",
    "        user = row['users']\n",
    "        film = row['movies']\n",
    "        rating = row['ratings']\n",
    "        prediction = np.dot(U.loc[user], V.loc[film]) # vTu\n",
    "        diff = prediction - rating # vTu - y\n",
    "        obj += diff*diff\n",
    "        gU.loc[user] += 2*diff*V.loc[film]\n",
    "        gV.loc[film] += 2*diff*U.loc[user]\n",
    "    return obj, gU, gV\n",
    "\n"
   ]
  },
  {
   "cell_type": "markdown",
   "metadata": {},
   "source": [
    "Now we can write our simple optimisation route. This allows us to observe the objective function as the optimization proceeds."
   ]
  },
  {
   "cell_type": "code",
   "execution_count": 7,
   "metadata": {},
   "outputs": [
    {
     "name": "stdout",
     "output_type": "stream",
     "text": [
      "Iteration 0 Objective function:  3442.1448030637216\n",
      "Iteration 1 Objective function:  3442.144170275731\n",
      "Iteration 2 Objective function:  3442.1432053922535\n"
     ]
    },
    {
     "ename": "KeyboardInterrupt",
     "evalue": "",
     "output_type": "error",
     "traceback": [
      "\u001b[1;31m---------------------------------------------------------------------------\u001b[0m",
      "\u001b[1;31mKeyboardInterrupt\u001b[0m                         Traceback (most recent call last)",
      "\u001b[1;32m<ipython-input-7-8157e7b6fe40>\u001b[0m in \u001b[0;36m<module>\u001b[1;34m()\u001b[0m\n\u001b[0;32m      1\u001b[0m \u001b[0miterations\u001b[0m \u001b[1;33m=\u001b[0m \u001b[1;36m20\u001b[0m\u001b[1;33m\u001b[0m\u001b[0m\n\u001b[0;32m      2\u001b[0m \u001b[1;32mfor\u001b[0m \u001b[0mi\u001b[0m \u001b[1;32min\u001b[0m \u001b[0mrange\u001b[0m\u001b[1;33m(\u001b[0m\u001b[0miterations\u001b[0m\u001b[1;33m)\u001b[0m\u001b[1;33m:\u001b[0m\u001b[1;33m\u001b[0m\u001b[0m\n\u001b[1;32m----> 3\u001b[1;33m     \u001b[0mobj\u001b[0m\u001b[1;33m,\u001b[0m \u001b[0mgU\u001b[0m\u001b[1;33m,\u001b[0m \u001b[0mgV\u001b[0m \u001b[1;33m=\u001b[0m \u001b[0mobjective_gradient\u001b[0m\u001b[1;33m(\u001b[0m\u001b[0mY\u001b[0m\u001b[1;33m,\u001b[0m \u001b[0mU\u001b[0m\u001b[1;33m,\u001b[0m \u001b[0mV\u001b[0m\u001b[1;33m)\u001b[0m\u001b[1;33m\u001b[0m\u001b[0m\n\u001b[0m\u001b[0;32m      4\u001b[0m     \u001b[0mprint\u001b[0m\u001b[1;33m(\u001b[0m\u001b[1;34m\"Iteration\"\u001b[0m\u001b[1;33m,\u001b[0m \u001b[0mi\u001b[0m\u001b[1;33m,\u001b[0m \u001b[1;34m\"Objective function: \"\u001b[0m\u001b[1;33m,\u001b[0m \u001b[0mobj\u001b[0m\u001b[1;33m)\u001b[0m\u001b[1;33m\u001b[0m\u001b[0m\n\u001b[0;32m      5\u001b[0m     \u001b[0mU\u001b[0m \u001b[1;33m-=\u001b[0m \u001b[0mlearn_rate\u001b[0m\u001b[1;33m*\u001b[0m\u001b[0mgU\u001b[0m\u001b[1;33m\u001b[0m\u001b[0m\n",
      "\u001b[1;32m<ipython-input-6-c944906fdb39>\u001b[0m in \u001b[0;36mobjective_gradient\u001b[1;34m(Y, U, V)\u001b[0m\n\u001b[0;32m      9\u001b[0m         \u001b[0mfilm\u001b[0m \u001b[1;33m=\u001b[0m \u001b[0mrow\u001b[0m\u001b[1;33m[\u001b[0m\u001b[1;34m'movies'\u001b[0m\u001b[1;33m]\u001b[0m\u001b[1;33m\u001b[0m\u001b[0m\n\u001b[0;32m     10\u001b[0m         \u001b[0mrating\u001b[0m \u001b[1;33m=\u001b[0m \u001b[0mrow\u001b[0m\u001b[1;33m[\u001b[0m\u001b[1;34m'ratings'\u001b[0m\u001b[1;33m]\u001b[0m\u001b[1;33m\u001b[0m\u001b[0m\n\u001b[1;32m---> 11\u001b[1;33m         \u001b[0mprediction\u001b[0m \u001b[1;33m=\u001b[0m \u001b[0mnp\u001b[0m\u001b[1;33m.\u001b[0m\u001b[0mdot\u001b[0m\u001b[1;33m(\u001b[0m\u001b[0mU\u001b[0m\u001b[1;33m.\u001b[0m\u001b[0mloc\u001b[0m\u001b[1;33m[\u001b[0m\u001b[0muser\u001b[0m\u001b[1;33m]\u001b[0m\u001b[1;33m,\u001b[0m \u001b[0mV\u001b[0m\u001b[1;33m.\u001b[0m\u001b[0mloc\u001b[0m\u001b[1;33m[\u001b[0m\u001b[0mfilm\u001b[0m\u001b[1;33m]\u001b[0m\u001b[1;33m)\u001b[0m \u001b[1;31m# vTu\u001b[0m\u001b[1;33m\u001b[0m\u001b[0m\n\u001b[0m\u001b[0;32m     12\u001b[0m         \u001b[0mdiff\u001b[0m \u001b[1;33m=\u001b[0m \u001b[0mprediction\u001b[0m \u001b[1;33m-\u001b[0m \u001b[0mrating\u001b[0m \u001b[1;31m# vTu - y\u001b[0m\u001b[1;33m\u001b[0m\u001b[0m\n\u001b[0;32m     13\u001b[0m         \u001b[0mobj\u001b[0m \u001b[1;33m+=\u001b[0m \u001b[0mdiff\u001b[0m\u001b[1;33m*\u001b[0m\u001b[0mdiff\u001b[0m\u001b[1;33m\u001b[0m\u001b[0m\n",
      "\u001b[1;31mKeyboardInterrupt\u001b[0m: "
     ]
    }
   ],
   "source": [
    "iterations = 20\n",
    "for i in range(iterations):\n",
    "    obj, gU, gV = objective_gradient(Y, U, V)\n",
    "    print(\"Iteration\", i, \"Objective function: \", obj)\n",
    "    U -= learn_rate*gU\n",
    "    V -= learn_rate*gV    "
   ]
  },
  {
   "cell_type": "markdown",
   "metadata": {},
   "source": [
    "### Assignment Question 5\n",
    "\n",
    "What happens as you increase the number of iterations? What happens if you increase the learning rate?\n",
    "\n",
    "*10 marks*"
   ]
  },
  {
   "cell_type": "markdown",
   "metadata": {},
   "source": [
    "#### Question 5 Answer\n",
    "\n",
    "As we increase the number of interations, the error function should yield a smaller and smaller error until finally ideally it hits 0, or more realistically it begins to oscillate around a minimal error point. (The function might not converge perfectly, or the learning rate might be too large.) Increasing the learning rate will speed up this process of error decrease (so that it takes less iterations), but it comes with the risk of essentially overshooting the point of minimal error, and having to go through more iterations without converging.\n",
    "\n",
    "Edit after including the code below: Increasing the learning rate does indeed speed up the process of convergence, but it seems to, after a point, begin to increase the error function over iterations.I feel like this would imply that there is some issue with the process of convergence. If the predictions at any point are to one side, so to speak, of the convergence point, and our gradient descent is towards the convergence at all times, then when the predictions cross over to the other end of the convergence they might just continue to keep going. Using a learn rate of 0.05, the system starts producing Infinity error scores by iteration 13. I might guess that this is due to the fact that the difference is squared before it is used to refine the matrices U and V, and that the refining is ALWAYS a subtraction.\n",
    "\n",
    "Increasing the number of iterations while keeping the learning rate as 0.01 seems to head towards convergence at a very slow pace. I did try it with a learn rate of 0.012, and at about iteration 45, once again, the trend of a falling error rate reversed."
   ]
  },
  {
   "cell_type": "code",
   "execution_count": null,
   "metadata": {},
   "outputs": [],
   "source": []
  },
  {
   "cell_type": "code",
   "execution_count": 8,
   "metadata": {},
   "outputs": [
    {
     "name": "stdout",
     "output_type": "stream",
     "text": [
      "Iteration 0 Objective function:  3442.144855751442\n",
      "Iteration 1 Objective function:  3442.1441896449614\n",
      "Iteration 2 Objective function:  3442.1430659625953\n",
      "Iteration 3 Objective function:  3442.1404938900623\n",
      "Iteration 4 Objective function:  3442.1341295754037\n",
      "Iteration 5 Objective function:  3442.117882405888\n",
      "Iteration 6 Objective function:  3442.0756423224498\n",
      "Iteration 7 Objective function:  3441.964468697191\n",
      "Iteration 8 Objective function:  3441.669360826015\n",
      "Iteration 9 Objective function:  3440.8814066029654\n",
      "Iteration 10 Objective function:  3438.7697466831946\n",
      "Iteration 11 Objective function:  3433.1028948877433\n",
      "Iteration 12 Objective function:  3417.932685841719\n",
      "Iteration 13 Objective function:  3377.771002455386\n",
      "Iteration 14 Objective function:  3274.9289003597287\n",
      "Iteration 15 Objective function:  3034.6346262833626\n",
      "Iteration 16 Objective function:  2593.4308599369288\n",
      "Iteration 17 Objective function:  2138.2127724457564\n",
      "Iteration 18 Objective function:  1935.7504117034903\n",
      "Iteration 19 Objective function:  1809.2129682261273\n",
      "Iteration 20 Objective function:  1694.9950464450708\n",
      "Iteration 21 Objective function:  1564.9296347069856\n",
      "Iteration 22 Objective function:  1415.7645725366103\n",
      "Iteration 23 Objective function:  1258.3340925542038\n",
      "Iteration 24 Objective function:  1099.5178389461057\n",
      "Iteration 25 Objective function:  943.3921343623638\n",
      "Iteration 26 Objective function:  802.9521437234027\n",
      "Iteration 27 Objective function:  693.8517871709975\n",
      "Iteration 28 Objective function:  619.0957957991303\n",
      "Iteration 29 Objective function:  569.1845249897957\n",
      "Iteration 30 Objective function:  534.1605283199592\n",
      "Iteration 31 Objective function:  508.71976291154584\n",
      "Iteration 32 Objective function:  490.18748225836316\n",
      "Iteration 33 Objective function:  476.4816155845105\n",
      "Iteration 34 Objective function:  465.77829140882085\n",
      "Iteration 35 Objective function:  456.7572244787867\n",
      "Iteration 36 Objective function:  448.63947183152226\n",
      "Iteration 37 Objective function:  441.0249060109652\n",
      "Iteration 38 Objective function:  433.7230939406338\n",
      "Iteration 39 Objective function:  426.6490257725928\n",
      "Iteration 40 Objective function:  419.7707912244538\n",
      "Iteration 41 Objective function:  413.0840652464212\n",
      "Iteration 42 Objective function:  406.5983332437353\n",
      "Iteration 43 Objective function:  400.32870780049785\n",
      "Iteration 44 Objective function:  394.2915701599728\n",
      "Iteration 45 Objective function:  388.5035304232367\n",
      "Iteration 46 Objective function:  382.9828582238669\n",
      "Iteration 47 Objective function:  377.75174517838343\n",
      "Iteration 48 Objective function:  372.83738488582725\n",
      "Iteration 49 Objective function:  368.2703460536901\n"
     ]
    }
   ],
   "source": [
    "# Question 5 Code Answer\n",
    "# Some part of this answer has been taken from the code in this assignment\n",
    "\n",
    "learn_rate = 0.01 # Adjust the learning rate here\n",
    "iterations = 50 # Adjust the number of iterations here\n",
    "U = pd.DataFrame(np.random.normal(size=(nUsersInExample, q))*0.001, index=my_batch_users)\n",
    "V = pd.DataFrame(np.random.normal(size=(n_movies, q))*0.001, index=indexes_unique_movies)\n",
    "for i in range(iterations):\n",
    "    obj, gU, gV = objective_gradient(Y, U, V)\n",
    "    print(\"Iteration\", i, \"Objective function: \", obj)\n",
    "    U -= learn_rate*gU\n",
    "    V -= learn_rate*gV    "
   ]
  },
  {
   "cell_type": "markdown",
   "metadata": {},
   "source": [
    "## Making Predictions\n",
    "\n",
    "Predictions can be made from the model of the appropriate rating for a given user, $i$, for a given film, $j$, by simply taking the inner product between their vectors $\\mathbf{u}_i$ and $\\mathbf{v}_j$. "
   ]
  },
  {
   "cell_type": "markdown",
   "metadata": {},
   "source": [
    "### Assignment Question 6\n",
    "\n",
    "Create a function that provides the prediction of the ratings for the users in the dataset. Is the quality of the predictions affected by the number of iterations or the learning rate? The function should receive `Y`, `U` and `V` and return the predictions and the absolute error between the predictions and the actual rating given by the users. The predictions and the absolute error should be added as additional columns to the dataframe `Y`.\n",
    "\n",
    "*15 marks*"
   ]
  },
  {
   "cell_type": "code",
   "execution_count": 16,
   "metadata": {},
   "outputs": [
    {
     "name": "stdout",
     "output_type": "stream",
     "text": [
      "3720\n"
     ]
    }
   ],
   "source": [
    "# Question 6 Code Answer\n",
    "# Given: Y, U, V\n",
    "# Expected: y predicted, and y real - y predicted\n",
    "# Some part of this answer has been taken from the code in this assignment\n",
    "\n",
    "def predictor(Y, U, V):\n",
    "    nrows = Y.shape[0]\n",
    "    predictions=[]\n",
    "    errors_abs=[]\n",
    "    for i in range(nrows):\n",
    "        row = Y.iloc[i]\n",
    "        user = row['users']\n",
    "        film = row['movies']\n",
    "        predictions.append(np.dot(U.loc[user], V.loc[film])+mean_ratings_train) # Seeing as we have focused the error function on the mean-subtracted value of the ratings, we will need to add it back to our predictions to get the rating out of 5.\n",
    "        errors_abs.append(row['ratingsorig']-predictions[-1]) # Once again, we're using ratingsorig because we need to calculate the actual rating\n",
    "    Y=Y.assign(predictions=predictions, error_abs=errors_abs)\n",
    "    return Y"
   ]
  },
  {
   "cell_type": "markdown",
   "metadata": {},
   "source": [
    "## Stochastic Gradient Descent or Robbins Monroe Algorithm\n",
    "\n",
    "Stochastic gradient descent involves updating separating each gradient update according to each separate observation, rather than summing over them all. It is an approximate optimization method, but it has proven convergence under certain conditions and can be much faster in practice. It is used widely by internet companies for doing machine learning in practice. For example, Facebook's ad ranking algorithm uses stochastic gradient descent. "
   ]
  },
  {
   "cell_type": "markdown",
   "metadata": {},
   "source": [
    "### Assignment Question 7\n",
    "\n",
    "Create a stochastic gradient descent version of the algorithm. Monitor the objective function after every 1000 updates to ensure that it is decreasing. When you have finished, plot the movie map and the user map in two dimensions (you can use the columns of the matrices $\\mathbf{U}$ for the user map and the columns of $\\mathbf{V}$ for the movie map). Provide three observations about these maps.\n",
    "\n",
    "*25 marks*"
   ]
  },
  {
   "cell_type": "code",
   "execution_count": 45,
   "metadata": {},
   "outputs": [
    {
     "data": {
      "image/png": "[encoded data removed]",
      "text/plain": [
       "<Figure size 432x288 with 1 Axes>"
      ]
     },
     "metadata": {
      "needs_background": "light"
     },
     "output_type": "display_data"
    },
    {
     "data": {
      "image/png": "[encoded data removed]",
      "text/plain": [
       "<Figure size 432x288 with 1 Axes>"
      ]
     },
     "metadata": {
      "needs_background": "light"
     },
     "output_type": "display_data"
    }
   ],
   "source": [
    "# Question 7 Code Answer\n",
    "# Some part of this answer has been taken from the code in this assignment\n",
    "import random\n",
    "\n",
    "def stochastic_gradient(Y, U, V):\n",
    "    gU = pd.DataFrame(np.zeros((U.shape)), index=U.index)\n",
    "    gV = pd.DataFrame(np.zeros((V.shape)), index=V.index)\n",
    "    nrows = Y.shape[0]\n",
    "    obj_old=\"NA\"\n",
    "    diff = 0\n",
    "    for i in range(1000): # Arbitrary length, the actual length is decided in a later part, with a comparison of the objective function\n",
    "        for j in range(1000):\n",
    "            i=random.randint(0, nrows-1) # Choosing a random record\n",
    "            row = Y.iloc[i]\n",
    "            user = row['users']\n",
    "            film = row['movies']\n",
    "            rating = row['ratings']\n",
    "            prediction = np.dot(U.loc[user], V.loc[film]) # vTu\n",
    "            diff = prediction - rating # vTu - y\n",
    "            U.loc[user] -= 2*learn_rate*diff*V.loc[film] # Immediate update instead of waiting for a total error function\n",
    "            V.loc[film] -= 2*learn_rate*diff*U.loc[user]\n",
    "        obj = diff*diff # Calculate the obj here, and compare to the obj a 1000 updates back. If it has begun to rise again, stop execution. I feel like this works because even though the objective function value for each progressive record might or might not be less than the previous, it almost has to be for two readings 1000 updates across\n",
    "        if(not(obj_old==\"NA\" or obj_old>obj)):\n",
    "            break\n",
    "        else:\n",
    "            obj_old=obj\n",
    "    return U, V\n",
    "\n",
    "U, V=stochastic_gradient(Y, U, V)\n",
    "\n",
    "%matplotlib inline \n",
    "import pylab as plt\n",
    "\n",
    "plt.plot(U[0], U[1], \"r+\")\n",
    "plt.title(\"User Map\")\n",
    "plt.show()\n",
    "plt.plot(V[0], V[1], \"bx\")\n",
    "plt.title(\"Movie Map\")\n",
    "plt.show()\n",
    "\n",
    "\n",
    "# On observations, it is to be noted that the error function is based around the mean-removed ratings, and not the ratings themselves. It is for this reason, that both vectors u and v have such small values, even after training. Though it seems to me that I haven't trained this system enough, because these values are entirely too small. I would expect the values to be on the order of 10^-1, not 10^-3. Also it is to be noted that the number of users is small enough that there is no pattern here, but looking at the maps for the next question, it does also look like a lot of the numbers are around the zero value, which makes sense because you'd expect the values to be spread out in such a  way that most of the values approach the mean, with outliers farther away. It is of course to be remembered that these maps don't correspond to real values, but the vectors for each user and each movie. What should matter to us is the dot product, but I feel like we can still make rudimentary observations based on the vectors themselves."
   ]
  },
  {
   "cell_type": "markdown",
   "metadata": {},
   "source": [
    "## Is Our Map Enough? Are Our Data Enough?\n",
    "\n",
    "Is two dimensions really enough to capture the complexity of humans and their artforms? Perhaps we need even more dimensions to capture that complexity. Extending our books analogy further, consider how we should place books that have a historical timeframe as well as some geographical location. Do we really want books from the 2nd World War to sit alongside books from the Roman Empire? Books on the American invasion of Sicily in 1943 are perhaps less related to books about Carthage than those that study the Jewish Revolt from 66-70 (in the Roman Province of Judaea). So books that relate to subjects which are closer in time should be stored together. However, a student of rebellion against empire may also be interested in the relationship between the Jewish Revolt of 66-70 and the Indian Rebellion of 1857, nearly 1800 years later. Whilst the technologies are different, the psychology of the people is shared: a rebellious nation angainst their imperial masters, triggered by misrule with a religious and cultural background. To capture such complexities we would need further dimensions in our latent representation. But are further dimensions justified by the amount of data we have? Can we really understand the facets of a film that only has at most three or four ratings?"
   ]
  },
  {
   "cell_type": "markdown",
   "metadata": {},
   "source": [
    "## Going Further\n",
    "\n",
    "If you want to take this model further then you'll need more data. You can use again the MovieLens 100k data but increasing the number of users (for example, for the Steepest Descent Algorithm you can do this by modifying the variable `nUsersInExample` that was set as 10 before)."
   ]
  },
  {
   "cell_type": "markdown",
   "metadata": {},
   "source": [
    "### Assignment Question 8\n",
    "\n",
    "Use stochastic gradient descent to make a movie map for the MovieLens 100k data. Plot the map of the movies when you are finished.\n",
    "\n",
    "*15 marks*"
   ]
  },
  {
   "cell_type": "code",
   "execution_count": 46,
   "metadata": {},
   "outputs": [
    {
     "data": {
      "image/png": "[encoded data removed]",
      "text/plain": [
       "<Figure size 432x288 with 1 Axes>"
      ]
     },
     "metadata": {
      "needs_background": "light"
     },
     "output_type": "display_data"
    },
    {
     "data": {
      "image/png": "[encoded data removed]",
      "text/plain": [
       "<Figure size 432x288 with 1 Axes>"
      ]
     },
     "metadata": {
      "needs_background": "light"
     },
     "output_type": "display_data"
    }
   ],
   "source": [
    "# Code for question 8 here.\n",
    "# Some part of this answer has been taken from the code in this assignment\n",
    "ratings = pd.read_csv(\"./ml-latest-small/ratings.csv\") \n",
    "indexes_unique_users = ratings['userId'].unique()\n",
    "n_users = indexes_unique_users.shape[0]\n",
    "np.random.seed(YourStudentID)\n",
    "indexes_users = np.random.permutation(n_users)\n",
    "my_batch_users = indexes_users\n",
    "nUsersInExample = my_batch_users.size\n",
    "# We need to make a list of the movies that these users have watched\n",
    "list_movies_each_user = [[] for _ in range(nUsersInExample)]\n",
    "list_ratings_each_user = [[] for _ in range(nUsersInExample)]\n",
    "# Movies\n",
    "list_movies = ratings['movieId'][ratings['userId'] == my_batch_users[0]].values\n",
    "list_movies_each_user[0] = list_movies                    \n",
    "# Ratings                      \n",
    "list_ratings = ratings['rating'][ratings['userId'] == my_batch_users[0]].values\n",
    "list_ratings_each_user[0] = list_ratings\n",
    "# Users\n",
    "n_each_user = list_movies.shape[0]\n",
    "list_users = my_batch_users[0]*np.ones((1, n_each_user))\n",
    "\n",
    "for i in range(1, nUsersInExample):\n",
    "    # Movies\n",
    "    local_list_per_user_movies = ratings['movieId'][ratings['userId'] == my_batch_users[i]].values\n",
    "    list_movies_each_user[i] = local_list_per_user_movies\n",
    "    list_movies = np.append(list_movies,local_list_per_user_movies)\n",
    "    # Ratings                                 \n",
    "    local_list_per_user_ratings = ratings['rating'][ratings['userId'] == my_batch_users[i]].values\n",
    "    list_ratings_each_user[i] = local_list_per_user_ratings\n",
    "    list_ratings = np.append(list_ratings, local_list_per_user_ratings)  \n",
    "    # Users                                   \n",
    "    n_each_user = local_list_per_user_movies.shape[0]                                                                               \n",
    "    local_rep_user =  my_batch_users[i]*np.ones((1, n_each_user))    \n",
    "    list_users = np.append(list_users, local_rep_user)\n",
    "\n",
    "# Let us first see how many unique movies have been rated\n",
    "indexes_unique_movies = np.unique(list_movies)\n",
    "n_movies = indexes_unique_movies.shape[0]\n",
    "# As it is expected no all users have rated all movies. We will build a matrix Y \n",
    "# with NaN inputs and fill according to the data for each user \n",
    "temp = np.empty((n_movies,nUsersInExample,))\n",
    "temp[:] = np.nan\n",
    "Y_with_NaNs = pd.DataFrame(temp)\n",
    "for i in range(nUsersInExample):\n",
    "    local_movies = list_movies_each_user[i]\n",
    "    ixs = np.in1d(indexes_unique_movies, local_movies)\n",
    "    Y_with_NaNs.loc[ixs, i] = list_ratings_each_user[i]\n",
    "\n",
    "Y_with_NaNs.index = indexes_unique_movies.tolist()\n",
    "Y_with_NaNs.columns = my_batch_users.tolist()\n",
    "\n",
    "p_list_ratings = np.concatenate(list_ratings_each_user).ravel()\n",
    "p_list_ratings_original = p_list_ratings.tolist()\n",
    "mean_ratings_train = np.mean(p_list_ratings)\n",
    "p_list_ratings =  p_list_ratings - mean_ratings_train # remove the mean\n",
    "p_list_movies = np.concatenate(list_movies_each_user).ravel().tolist()\n",
    "p_list_users = list_users.tolist()\n",
    "Y = pd.DataFrame({'users': p_list_users, 'movies': p_list_movies, 'ratingsorig': p_list_ratings_original,'ratings':p_list_ratings.tolist()})\n",
    "learn_rate = 0.01 # Adjust the learning rate here\n",
    "U = pd.DataFrame(np.random.normal(size=(nUsersInExample, q))*0.001, index=my_batch_users)\n",
    "V = pd.DataFrame(np.random.normal(size=(n_movies, q))*0.001, index=indexes_unique_movies)\n",
    "U, V = stochastic_gradient(Y, U, V)\n",
    "\n",
    "plt.plot(U[0], U[1], \"r+\")\n",
    "plt.title(\"User Map\")\n",
    "plt.show()\n",
    "plt.plot(V[0], V[1], \"bx\")\n",
    "plt.title(\"Movie Map\")\n",
    "plt.show()"
   ]
  },
  {
   "cell_type": "code",
   "execution_count": null,
   "metadata": {},
   "outputs": [],
   "source": []
  }
 ],
 "metadata": {
  "kernelspec": {
   "display_name": "Python 3",
   "language": "python",
   "name": "python3"
  },
  "language_info": {
   "codemirror_mode": {
    "name": "ipython",
    "version": 3
   },
   "file_extension": ".py",
   "mimetype": "text/x-python",
   "name": "python",
   "nbconvert_exporter": "python",
   "pygments_lexer": "ipython3",
   "version": "3.6.5"
  }
 },
 "nbformat": 4,
 "nbformat_minor": 1
}
